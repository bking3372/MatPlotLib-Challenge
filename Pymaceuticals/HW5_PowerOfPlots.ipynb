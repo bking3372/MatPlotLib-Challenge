{
 "cells": [
  {
   "cell_type": "code",
   "execution_count": null,
   "metadata": {},
   "outputs": [],
   "source": [
    "#Three Observations:\n",
    "#1.  Average tumor volumes range from a low of 40.2 (Ramicane Drug Regimen) to a high of 55.2 (Ketapril Drug Regimen).\n",
    "#2.  There is an equal distribution of male and female mice in the study overall.\n",
    "#3.  There is a strong, positive correlation between mouse weight and the average tumor volume for the Capomulin Drug Regimen."
   ]
  },
  {
   "cell_type": "code",
   "execution_count": 2,
   "metadata": {},
   "outputs": [],
   "source": [
    "#Dependencies\n",
    "import matplotlib.pyplot as plt\n",
    "import pandas as pd\n",
    "import scipy.stats as st\n",
    "import numpy as np\n",
    "from scipy.stats import linregress"
   ]
  },
  {
   "cell_type": "code",
   "execution_count": 3,
   "metadata": {},
   "outputs": [],
   "source": [
    "#Read in data\n",
    "mouse_data_path = \"Resources/mouse_metadata.csv\"\n",
    "study_data_path = \"Resources/study_results.csv\"\n",
    "\n",
    "mouse_data = pd.read_csv(mouse_data_path)\n",
    "study_data = pd.read_csv(study_data_path)"
   ]
  },
  {
   "cell_type": "code",
   "execution_count": 4,
   "metadata": {},
   "outputs": [],
   "source": [
    "#Merge the two datasets\n",
    "mouse_comb = pd.merge(mouse_data, study_data, on=\"Mouse ID\")"
   ]
  },
  {
   "cell_type": "code",
   "execution_count": 5,
   "metadata": {},
   "outputs": [
    {
     "data": {
      "text/html": [
       "<div>\n",
       "<style scoped>\n",
       "    .dataframe tbody tr th:only-of-type {\n",
       "        vertical-align: middle;\n",
       "    }\n",
       "\n",
       "    .dataframe tbody tr th {\n",
       "        vertical-align: top;\n",
       "    }\n",
       "\n",
       "    .dataframe thead th {\n",
       "        text-align: right;\n",
       "    }\n",
       "</style>\n",
       "<table border=\"1\" class=\"dataframe\">\n",
       "  <thead>\n",
       "    <tr style=\"text-align: right;\">\n",
       "      <th></th>\n",
       "      <th>Mouse ID</th>\n",
       "      <th>Drug Regimen</th>\n",
       "      <th>Sex</th>\n",
       "      <th>Age_months</th>\n",
       "      <th>Weight (g)</th>\n",
       "      <th>Timepoint</th>\n",
       "      <th>Tumor Volume (mm3)</th>\n",
       "      <th>Metastatic Sites</th>\n",
       "    </tr>\n",
       "  </thead>\n",
       "  <tbody>\n",
       "    <tr>\n",
       "      <th>909</th>\n",
       "      <td>g989</td>\n",
       "      <td>Propriva</td>\n",
       "      <td>Female</td>\n",
       "      <td>21</td>\n",
       "      <td>26</td>\n",
       "      <td>0</td>\n",
       "      <td>45.000000</td>\n",
       "      <td>0</td>\n",
       "    </tr>\n",
       "    <tr>\n",
       "      <th>911</th>\n",
       "      <td>g989</td>\n",
       "      <td>Propriva</td>\n",
       "      <td>Female</td>\n",
       "      <td>21</td>\n",
       "      <td>26</td>\n",
       "      <td>5</td>\n",
       "      <td>47.570392</td>\n",
       "      <td>0</td>\n",
       "    </tr>\n",
       "    <tr>\n",
       "      <th>913</th>\n",
       "      <td>g989</td>\n",
       "      <td>Propriva</td>\n",
       "      <td>Female</td>\n",
       "      <td>21</td>\n",
       "      <td>26</td>\n",
       "      <td>10</td>\n",
       "      <td>49.880528</td>\n",
       "      <td>0</td>\n",
       "    </tr>\n",
       "    <tr>\n",
       "      <th>915</th>\n",
       "      <td>g989</td>\n",
       "      <td>Propriva</td>\n",
       "      <td>Female</td>\n",
       "      <td>21</td>\n",
       "      <td>26</td>\n",
       "      <td>15</td>\n",
       "      <td>53.442020</td>\n",
       "      <td>0</td>\n",
       "    </tr>\n",
       "    <tr>\n",
       "      <th>917</th>\n",
       "      <td>g989</td>\n",
       "      <td>Propriva</td>\n",
       "      <td>Female</td>\n",
       "      <td>21</td>\n",
       "      <td>26</td>\n",
       "      <td>20</td>\n",
       "      <td>54.657650</td>\n",
       "      <td>1</td>\n",
       "    </tr>\n",
       "  </tbody>\n",
       "</table>\n",
       "</div>"
      ],
      "text/plain": [
       "    Mouse ID Drug Regimen     Sex  Age_months  Weight (g)  Timepoint  \\\n",
       "909     g989     Propriva  Female          21          26          0   \n",
       "911     g989     Propriva  Female          21          26          5   \n",
       "913     g989     Propriva  Female          21          26         10   \n",
       "915     g989     Propriva  Female          21          26         15   \n",
       "917     g989     Propriva  Female          21          26         20   \n",
       "\n",
       "     Tumor Volume (mm3)  Metastatic Sites  \n",
       "909           45.000000                 0  \n",
       "911           47.570392                 0  \n",
       "913           49.880528                 0  \n",
       "915           53.442020                 0  \n",
       "917           54.657650                 1  "
      ]
     },
     "execution_count": 5,
     "metadata": {},
     "output_type": "execute_result"
    }
   ],
   "source": [
    "#Identify duplicate mice - the only duplicate one is Mouse ID g989\n",
    "DupRowsDF = mouse_comb[mouse_comb.duplicated([\"Mouse ID\", \"Timepoint\"])]\n",
    "DupRowsDF"
   ]
  },
  {
   "cell_type": "code",
   "execution_count": 6,
   "metadata": {},
   "outputs": [
    {
     "data": {
      "text/html": [
       "<div>\n",
       "<style scoped>\n",
       "    .dataframe tbody tr th:only-of-type {\n",
       "        vertical-align: middle;\n",
       "    }\n",
       "\n",
       "    .dataframe tbody tr th {\n",
       "        vertical-align: top;\n",
       "    }\n",
       "\n",
       "    .dataframe thead th {\n",
       "        text-align: right;\n",
       "    }\n",
       "</style>\n",
       "<table border=\"1\" class=\"dataframe\">\n",
       "  <thead>\n",
       "    <tr style=\"text-align: right;\">\n",
       "      <th></th>\n",
       "      <th>Mouse ID</th>\n",
       "      <th>Drug Regimen</th>\n",
       "      <th>Sex</th>\n",
       "      <th>Age_months</th>\n",
       "      <th>Weight (g)</th>\n",
       "      <th>Timepoint</th>\n",
       "      <th>Tumor Volume (mm3)</th>\n",
       "      <th>Metastatic Sites</th>\n",
       "    </tr>\n",
       "  </thead>\n",
       "  <tbody>\n",
       "    <tr>\n",
       "      <th>908</th>\n",
       "      <td>g989</td>\n",
       "      <td>Propriva</td>\n",
       "      <td>Female</td>\n",
       "      <td>21</td>\n",
       "      <td>26</td>\n",
       "      <td>0</td>\n",
       "      <td>45.000000</td>\n",
       "      <td>0</td>\n",
       "    </tr>\n",
       "    <tr>\n",
       "      <th>909</th>\n",
       "      <td>g989</td>\n",
       "      <td>Propriva</td>\n",
       "      <td>Female</td>\n",
       "      <td>21</td>\n",
       "      <td>26</td>\n",
       "      <td>0</td>\n",
       "      <td>45.000000</td>\n",
       "      <td>0</td>\n",
       "    </tr>\n",
       "    <tr>\n",
       "      <th>910</th>\n",
       "      <td>g989</td>\n",
       "      <td>Propriva</td>\n",
       "      <td>Female</td>\n",
       "      <td>21</td>\n",
       "      <td>26</td>\n",
       "      <td>5</td>\n",
       "      <td>48.786801</td>\n",
       "      <td>0</td>\n",
       "    </tr>\n",
       "    <tr>\n",
       "      <th>911</th>\n",
       "      <td>g989</td>\n",
       "      <td>Propriva</td>\n",
       "      <td>Female</td>\n",
       "      <td>21</td>\n",
       "      <td>26</td>\n",
       "      <td>5</td>\n",
       "      <td>47.570392</td>\n",
       "      <td>0</td>\n",
       "    </tr>\n",
       "    <tr>\n",
       "      <th>912</th>\n",
       "      <td>g989</td>\n",
       "      <td>Propriva</td>\n",
       "      <td>Female</td>\n",
       "      <td>21</td>\n",
       "      <td>26</td>\n",
       "      <td>10</td>\n",
       "      <td>51.745156</td>\n",
       "      <td>0</td>\n",
       "    </tr>\n",
       "    <tr>\n",
       "      <th>913</th>\n",
       "      <td>g989</td>\n",
       "      <td>Propriva</td>\n",
       "      <td>Female</td>\n",
       "      <td>21</td>\n",
       "      <td>26</td>\n",
       "      <td>10</td>\n",
       "      <td>49.880528</td>\n",
       "      <td>0</td>\n",
       "    </tr>\n",
       "    <tr>\n",
       "      <th>914</th>\n",
       "      <td>g989</td>\n",
       "      <td>Propriva</td>\n",
       "      <td>Female</td>\n",
       "      <td>21</td>\n",
       "      <td>26</td>\n",
       "      <td>15</td>\n",
       "      <td>51.325852</td>\n",
       "      <td>1</td>\n",
       "    </tr>\n",
       "    <tr>\n",
       "      <th>915</th>\n",
       "      <td>g989</td>\n",
       "      <td>Propriva</td>\n",
       "      <td>Female</td>\n",
       "      <td>21</td>\n",
       "      <td>26</td>\n",
       "      <td>15</td>\n",
       "      <td>53.442020</td>\n",
       "      <td>0</td>\n",
       "    </tr>\n",
       "    <tr>\n",
       "      <th>916</th>\n",
       "      <td>g989</td>\n",
       "      <td>Propriva</td>\n",
       "      <td>Female</td>\n",
       "      <td>21</td>\n",
       "      <td>26</td>\n",
       "      <td>20</td>\n",
       "      <td>55.326122</td>\n",
       "      <td>1</td>\n",
       "    </tr>\n",
       "    <tr>\n",
       "      <th>917</th>\n",
       "      <td>g989</td>\n",
       "      <td>Propriva</td>\n",
       "      <td>Female</td>\n",
       "      <td>21</td>\n",
       "      <td>26</td>\n",
       "      <td>20</td>\n",
       "      <td>54.657650</td>\n",
       "      <td>1</td>\n",
       "    </tr>\n",
       "    <tr>\n",
       "      <th>918</th>\n",
       "      <td>g989</td>\n",
       "      <td>Propriva</td>\n",
       "      <td>Female</td>\n",
       "      <td>21</td>\n",
       "      <td>26</td>\n",
       "      <td>25</td>\n",
       "      <td>56.045564</td>\n",
       "      <td>1</td>\n",
       "    </tr>\n",
       "    <tr>\n",
       "      <th>919</th>\n",
       "      <td>g989</td>\n",
       "      <td>Propriva</td>\n",
       "      <td>Female</td>\n",
       "      <td>21</td>\n",
       "      <td>26</td>\n",
       "      <td>30</td>\n",
       "      <td>59.082294</td>\n",
       "      <td>1</td>\n",
       "    </tr>\n",
       "    <tr>\n",
       "      <th>920</th>\n",
       "      <td>g989</td>\n",
       "      <td>Propriva</td>\n",
       "      <td>Female</td>\n",
       "      <td>21</td>\n",
       "      <td>26</td>\n",
       "      <td>35</td>\n",
       "      <td>62.570880</td>\n",
       "      <td>2</td>\n",
       "    </tr>\n",
       "  </tbody>\n",
       "</table>\n",
       "</div>"
      ],
      "text/plain": [
       "    Mouse ID Drug Regimen     Sex  Age_months  Weight (g)  Timepoint  \\\n",
       "908     g989     Propriva  Female          21          26          0   \n",
       "909     g989     Propriva  Female          21          26          0   \n",
       "910     g989     Propriva  Female          21          26          5   \n",
       "911     g989     Propriva  Female          21          26          5   \n",
       "912     g989     Propriva  Female          21          26         10   \n",
       "913     g989     Propriva  Female          21          26         10   \n",
       "914     g989     Propriva  Female          21          26         15   \n",
       "915     g989     Propriva  Female          21          26         15   \n",
       "916     g989     Propriva  Female          21          26         20   \n",
       "917     g989     Propriva  Female          21          26         20   \n",
       "918     g989     Propriva  Female          21          26         25   \n",
       "919     g989     Propriva  Female          21          26         30   \n",
       "920     g989     Propriva  Female          21          26         35   \n",
       "\n",
       "     Tumor Volume (mm3)  Metastatic Sites  \n",
       "908           45.000000                 0  \n",
       "909           45.000000                 0  \n",
       "910           48.786801                 0  \n",
       "911           47.570392                 0  \n",
       "912           51.745156                 0  \n",
       "913           49.880528                 0  \n",
       "914           51.325852                 1  \n",
       "915           53.442020                 0  \n",
       "916           55.326122                 1  \n",
       "917           54.657650                 1  \n",
       "918           56.045564                 1  \n",
       "919           59.082294                 1  \n",
       "920           62.570880                 2  "
      ]
     },
     "execution_count": 6,
     "metadata": {},
     "output_type": "execute_result"
    }
   ],
   "source": [
    "#Show only Mouse ID g989 to see the duplicate rows\n",
    "only_g989 = mouse_comb.loc[mouse_comb[\"Mouse ID\"] == \"g989\", :]\n",
    "only_g989"
   ]
  },
  {
   "cell_type": "code",
   "execution_count": 7,
   "metadata": {},
   "outputs": [],
   "source": [
    "#Drop duplicate rows for Mouse ID & Timepoint; this keeps the first instance\n",
    "mouse_comb_nodup = mouse_comb.drop_duplicates(subset=[\"Mouse ID\", \"Timepoint\"])"
   ]
  },
  {
   "cell_type": "code",
   "execution_count": 8,
   "metadata": {},
   "outputs": [
    {
     "data": {
      "text/html": [
       "<div>\n",
       "<style scoped>\n",
       "    .dataframe tbody tr th:only-of-type {\n",
       "        vertical-align: middle;\n",
       "    }\n",
       "\n",
       "    .dataframe tbody tr th {\n",
       "        vertical-align: top;\n",
       "    }\n",
       "\n",
       "    .dataframe thead th {\n",
       "        text-align: right;\n",
       "    }\n",
       "</style>\n",
       "<table border=\"1\" class=\"dataframe\">\n",
       "  <thead>\n",
       "    <tr style=\"text-align: right;\">\n",
       "      <th></th>\n",
       "      <th>Mouse ID</th>\n",
       "      <th>Drug Regimen</th>\n",
       "      <th>Sex</th>\n",
       "      <th>Age_months</th>\n",
       "      <th>Weight (g)</th>\n",
       "      <th>Timepoint</th>\n",
       "      <th>Tumor Volume (mm3)</th>\n",
       "      <th>Metastatic Sites</th>\n",
       "    </tr>\n",
       "  </thead>\n",
       "  <tbody>\n",
       "    <tr>\n",
       "      <th>908</th>\n",
       "      <td>g989</td>\n",
       "      <td>Propriva</td>\n",
       "      <td>Female</td>\n",
       "      <td>21</td>\n",
       "      <td>26</td>\n",
       "      <td>0</td>\n",
       "      <td>45.000000</td>\n",
       "      <td>0</td>\n",
       "    </tr>\n",
       "    <tr>\n",
       "      <th>910</th>\n",
       "      <td>g989</td>\n",
       "      <td>Propriva</td>\n",
       "      <td>Female</td>\n",
       "      <td>21</td>\n",
       "      <td>26</td>\n",
       "      <td>5</td>\n",
       "      <td>48.786801</td>\n",
       "      <td>0</td>\n",
       "    </tr>\n",
       "    <tr>\n",
       "      <th>912</th>\n",
       "      <td>g989</td>\n",
       "      <td>Propriva</td>\n",
       "      <td>Female</td>\n",
       "      <td>21</td>\n",
       "      <td>26</td>\n",
       "      <td>10</td>\n",
       "      <td>51.745156</td>\n",
       "      <td>0</td>\n",
       "    </tr>\n",
       "    <tr>\n",
       "      <th>914</th>\n",
       "      <td>g989</td>\n",
       "      <td>Propriva</td>\n",
       "      <td>Female</td>\n",
       "      <td>21</td>\n",
       "      <td>26</td>\n",
       "      <td>15</td>\n",
       "      <td>51.325852</td>\n",
       "      <td>1</td>\n",
       "    </tr>\n",
       "    <tr>\n",
       "      <th>916</th>\n",
       "      <td>g989</td>\n",
       "      <td>Propriva</td>\n",
       "      <td>Female</td>\n",
       "      <td>21</td>\n",
       "      <td>26</td>\n",
       "      <td>20</td>\n",
       "      <td>55.326122</td>\n",
       "      <td>1</td>\n",
       "    </tr>\n",
       "    <tr>\n",
       "      <th>918</th>\n",
       "      <td>g989</td>\n",
       "      <td>Propriva</td>\n",
       "      <td>Female</td>\n",
       "      <td>21</td>\n",
       "      <td>26</td>\n",
       "      <td>25</td>\n",
       "      <td>56.045564</td>\n",
       "      <td>1</td>\n",
       "    </tr>\n",
       "    <tr>\n",
       "      <th>919</th>\n",
       "      <td>g989</td>\n",
       "      <td>Propriva</td>\n",
       "      <td>Female</td>\n",
       "      <td>21</td>\n",
       "      <td>26</td>\n",
       "      <td>30</td>\n",
       "      <td>59.082294</td>\n",
       "      <td>1</td>\n",
       "    </tr>\n",
       "    <tr>\n",
       "      <th>920</th>\n",
       "      <td>g989</td>\n",
       "      <td>Propriva</td>\n",
       "      <td>Female</td>\n",
       "      <td>21</td>\n",
       "      <td>26</td>\n",
       "      <td>35</td>\n",
       "      <td>62.570880</td>\n",
       "      <td>2</td>\n",
       "    </tr>\n",
       "  </tbody>\n",
       "</table>\n",
       "</div>"
      ],
      "text/plain": [
       "    Mouse ID Drug Regimen     Sex  Age_months  Weight (g)  Timepoint  \\\n",
       "908     g989     Propriva  Female          21          26          0   \n",
       "910     g989     Propriva  Female          21          26          5   \n",
       "912     g989     Propriva  Female          21          26         10   \n",
       "914     g989     Propriva  Female          21          26         15   \n",
       "916     g989     Propriva  Female          21          26         20   \n",
       "918     g989     Propriva  Female          21          26         25   \n",
       "919     g989     Propriva  Female          21          26         30   \n",
       "920     g989     Propriva  Female          21          26         35   \n",
       "\n",
       "     Tumor Volume (mm3)  Metastatic Sites  \n",
       "908           45.000000                 0  \n",
       "910           48.786801                 0  \n",
       "912           51.745156                 0  \n",
       "914           51.325852                 1  \n",
       "916           55.326122                 1  \n",
       "918           56.045564                 1  \n",
       "919           59.082294                 1  \n",
       "920           62.570880                 2  "
      ]
     },
     "execution_count": 8,
     "metadata": {},
     "output_type": "execute_result"
    }
   ],
   "source": [
    "#Check Mouse ID g989 to confirm duplicates have been removed\n",
    "check_only_g989 = mouse_comb_nodup.loc[mouse_comb_nodup[\"Mouse ID\"] == \"g989\", :]\n",
    "check_only_g989"
   ]
  },
  {
   "cell_type": "code",
   "execution_count": 9,
   "metadata": {},
   "outputs": [
    {
     "data": {
      "text/html": [
       "<div>\n",
       "<style scoped>\n",
       "    .dataframe tbody tr th:only-of-type {\n",
       "        vertical-align: middle;\n",
       "    }\n",
       "\n",
       "    .dataframe tbody tr th {\n",
       "        vertical-align: top;\n",
       "    }\n",
       "\n",
       "    .dataframe thead tr th {\n",
       "        text-align: left;\n",
       "    }\n",
       "\n",
       "    .dataframe thead tr:last-of-type th {\n",
       "        text-align: right;\n",
       "    }\n",
       "</style>\n",
       "<table border=\"1\" class=\"dataframe\">\n",
       "  <thead>\n",
       "    <tr>\n",
       "      <th></th>\n",
       "      <th colspan=\"5\" halign=\"left\">Tumor Volume (mm3)</th>\n",
       "    </tr>\n",
       "    <tr>\n",
       "      <th></th>\n",
       "      <th>mean</th>\n",
       "      <th>median</th>\n",
       "      <th>var</th>\n",
       "      <th>std</th>\n",
       "      <th>sem</th>\n",
       "    </tr>\n",
       "    <tr>\n",
       "      <th>Drug Regimen</th>\n",
       "      <th></th>\n",
       "      <th></th>\n",
       "      <th></th>\n",
       "      <th></th>\n",
       "      <th></th>\n",
       "    </tr>\n",
       "  </thead>\n",
       "  <tbody>\n",
       "    <tr>\n",
       "      <th>Capomulin</th>\n",
       "      <td>40.675741</td>\n",
       "      <td>41.557809</td>\n",
       "      <td>24.947764</td>\n",
       "      <td>4.994774</td>\n",
       "      <td>0.329346</td>\n",
       "    </tr>\n",
       "    <tr>\n",
       "      <th>Ceftamin</th>\n",
       "      <td>52.591172</td>\n",
       "      <td>51.776157</td>\n",
       "      <td>39.290177</td>\n",
       "      <td>6.268188</td>\n",
       "      <td>0.469821</td>\n",
       "    </tr>\n",
       "    <tr>\n",
       "      <th>Infubinol</th>\n",
       "      <td>52.884795</td>\n",
       "      <td>51.820584</td>\n",
       "      <td>43.128684</td>\n",
       "      <td>6.567243</td>\n",
       "      <td>0.492236</td>\n",
       "    </tr>\n",
       "    <tr>\n",
       "      <th>Ketapril</th>\n",
       "      <td>55.235638</td>\n",
       "      <td>53.698743</td>\n",
       "      <td>68.553577</td>\n",
       "      <td>8.279709</td>\n",
       "      <td>0.603860</td>\n",
       "    </tr>\n",
       "    <tr>\n",
       "      <th>Naftisol</th>\n",
       "      <td>54.331565</td>\n",
       "      <td>52.509285</td>\n",
       "      <td>66.173479</td>\n",
       "      <td>8.134708</td>\n",
       "      <td>0.596466</td>\n",
       "    </tr>\n",
       "    <tr>\n",
       "      <th>Placebo</th>\n",
       "      <td>54.033581</td>\n",
       "      <td>52.288934</td>\n",
       "      <td>61.168083</td>\n",
       "      <td>7.821003</td>\n",
       "      <td>0.581331</td>\n",
       "    </tr>\n",
       "    <tr>\n",
       "      <th>Propriva</th>\n",
       "      <td>52.393463</td>\n",
       "      <td>50.909965</td>\n",
       "      <td>43.138803</td>\n",
       "      <td>6.568014</td>\n",
       "      <td>0.525862</td>\n",
       "    </tr>\n",
       "    <tr>\n",
       "      <th>Ramicane</th>\n",
       "      <td>40.216745</td>\n",
       "      <td>40.673236</td>\n",
       "      <td>23.486704</td>\n",
       "      <td>4.846308</td>\n",
       "      <td>0.320955</td>\n",
       "    </tr>\n",
       "    <tr>\n",
       "      <th>Stelasyn</th>\n",
       "      <td>54.233149</td>\n",
       "      <td>52.431737</td>\n",
       "      <td>59.450562</td>\n",
       "      <td>7.710419</td>\n",
       "      <td>0.573111</td>\n",
       "    </tr>\n",
       "    <tr>\n",
       "      <th>Zoniferol</th>\n",
       "      <td>53.236507</td>\n",
       "      <td>51.818479</td>\n",
       "      <td>48.533355</td>\n",
       "      <td>6.966589</td>\n",
       "      <td>0.516398</td>\n",
       "    </tr>\n",
       "  </tbody>\n",
       "</table>\n",
       "</div>"
      ],
      "text/plain": [
       "             Tumor Volume (mm3)                                          \n",
       "                           mean     median        var       std       sem\n",
       "Drug Regimen                                                             \n",
       "Capomulin             40.675741  41.557809  24.947764  4.994774  0.329346\n",
       "Ceftamin              52.591172  51.776157  39.290177  6.268188  0.469821\n",
       "Infubinol             52.884795  51.820584  43.128684  6.567243  0.492236\n",
       "Ketapril              55.235638  53.698743  68.553577  8.279709  0.603860\n",
       "Naftisol              54.331565  52.509285  66.173479  8.134708  0.596466\n",
       "Placebo               54.033581  52.288934  61.168083  7.821003  0.581331\n",
       "Propriva              52.393463  50.909965  43.138803  6.568014  0.525862\n",
       "Ramicane              40.216745  40.673236  23.486704  4.846308  0.320955\n",
       "Stelasyn              54.233149  52.431737  59.450562  7.710419  0.573111\n",
       "Zoniferol             53.236507  51.818479  48.533355  6.966589  0.516398"
      ]
     },
     "execution_count": 9,
     "metadata": {},
     "output_type": "execute_result"
    }
   ],
   "source": [
    "#Generate a summary statistics table of mean, median, var, std, and SEM of the tumor volumes for each regimen\n",
    "tumor_stats = mouse_comb_nodup.groupby([\"Drug Regimen\"]).agg({\"Tumor Volume (mm3)\": ['mean', 'median', 'var', 'std', 'sem']})\n",
    "tumor_stats"
   ]
  },
  {
   "cell_type": "code",
   "execution_count": 10,
   "metadata": {},
   "outputs": [],
   "source": [
    "#Bar Plots:  number of mice per time point for each drug regimen throughout the course of the study\n",
    "\n",
    "#Prepare data for plots\n",
    "#Dataset with count of mice across all timepoints by drug group\n",
    "mgroup = mouse_comb_nodup.groupby([\"Drug Regimen\"])[\"Mouse ID\"].count().reset_index()"
   ]
  },
  {
   "cell_type": "code",
   "execution_count": 11,
   "metadata": {},
   "outputs": [
    {
     "data": {
      "image/png": "[encoded data removed]",
      "text/plain": [
       "<Figure size 432x288 with 1 Axes>"
      ]
     },
     "metadata": {
      "needs_background": "light"
     },
     "output_type": "display_data"
    }
   ],
   "source": [
    "#Bar plot using pandas\n",
    "dgroup = mgroup.set_index(\"Drug Regimen\")\n",
    "dgroup.plot(kind=\"bar\", width=0.75, color='red', alpha=0.5, legend=False,\n",
    "            ylim=(0, max(dgroup[\"Mouse ID\"]+50))).set(ylabel=\"Number of Mice\")\n",
    "plt.title(\"Number of Mice Across Timepoints by Drug Regimen\")\n",
    "plt.show()"
   ]
  },
  {
   "cell_type": "code",
   "execution_count": 12,
   "metadata": {},
   "outputs": [
    {
     "data": {
      "image/png": "[encoded data removed]",
      "text/plain": [
       "<Figure size 432x288 with 1 Axes>"
      ]
     },
     "metadata": {
      "needs_background": "light"
     },
     "output_type": "display_data"
    }
   ],
   "source": [
    "#Bar plot using pyplot\n",
    "dgrp = np.array(mgroup[\"Drug Regimen\"].tolist())\n",
    "mcnt = np.array(mgroup[\"Mouse ID\"].tolist())\n",
    "x_axis = np.arange(len(dgrp))\n",
    "plt.bar(x_axis, mcnt, color = 'r', alpha=0.5, align=\"center\")\n",
    "tick_locations = [value for value in x_axis]\n",
    "plt.xticks(tick_locations, dgrp, rotation=90)\n",
    "plt.ylim(0, max(mcnt)+50)\n",
    "plt.title(\"Number of Mice Across Timepoints by Drug Regimen\")\n",
    "plt.xlabel(\"Drug Regimen\")\n",
    "plt.ylabel(\"Number of Mice\")\n",
    "plt.show()"
   ]
  },
  {
   "cell_type": "code",
   "execution_count": 13,
   "metadata": {},
   "outputs": [],
   "source": [
    "#Pie plots to show distribution of gender\n",
    "\n",
    "#Prepare data to use for plots\n",
    "gender_df = mouse_comb_nodup[[\"Mouse ID\", \"Sex\"]]\n",
    "gender_nodup_df = gender_df.drop_duplicates([\"Mouse ID\", \"Sex\"])\n",
    "gender_group = gender_nodup_df.groupby([\"Sex\"])\n",
    "gen_cnt = gender_group[\"Sex\"].count()\n",
    "\n",
    "gen_df = pd.DataFrame({\"Count\": gen_cnt})\n",
    "\n",
    "gender = np.array(gen_df[\"Count\"].tolist())"
   ]
  },
  {
   "cell_type": "code",
   "execution_count": 15,
   "metadata": {},
   "outputs": [
    {
     "data": {
      "image/png": "[encoded data removed]",
      "text/plain": [
       "<Figure size 432x288 with 1 Axes>"
      ]
     },
     "metadata": {},
     "output_type": "display_data"
    }
   ],
   "source": [
    "#Pie plot using pyplot\n",
    "labels = [\"Female\", \"Male\"]\n",
    "colors = [\"red\", \"blue\"]\n",
    "explode = (0.1, 0)\n",
    "plt.pie(gender, labels=labels, colors=colors, explode=explode, autopct=\"%1.1f%%\", shadow=True, startangle=140)\n",
    "plt.axis(\"equal\")\n",
    "plt.title(\"Percentage of Mice by Gender\")\n",
    "plt.show()"
   ]
  },
  {
   "cell_type": "code",
   "execution_count": 16,
   "metadata": {},
   "outputs": [
    {
     "data": {
      "image/png": "[encoded data removed]",
      "text/plain": [
       "<Figure size 432x288 with 1 Axes>"
      ]
     },
     "metadata": {},
     "output_type": "display_data"
    }
   ],
   "source": [
    "#Pie plot using pandas\n",
    "plot = gen_df.plot(kind=\"pie\", y=\"Count\", legend=False, autopct='%1.1f%%', startangle=140, title=\"Percentage of Mice by Gender\",\n",
    "                  shadow=True, explode=(0.1,0), colors=colors)\n",
    "plot.set_ylabel('')\n",
    "plt.show()"
   ]
  },
  {
   "cell_type": "code",
   "execution_count": 17,
   "metadata": {},
   "outputs": [],
   "source": [
    "#Quartiles, Outliers and Boxplots\n",
    "\n",
    "#Create data set with final tumor volume for each mouse by drug regimen\n",
    "subset = mouse_comb_nodup[[\"Drug Regimen\", \"Mouse ID\", \"Tumor Volume (mm3)\"]]\n",
    "subset_group = subset.groupby([\"Drug Regimen\", \"Mouse ID\"]).tail(1).sort_values(\"Drug Regimen\").reset_index(drop=True)\n",
    "#Keep only the four drug groups of interest\n",
    "drug_group_subset = subset_group.loc[(subset_group[\"Drug Regimen\"] == \"Capomulin\") |\n",
    "                                    (subset_group[\"Drug Regimen\"] == \"Ramicane\") |\n",
    "                                    (subset_group[\"Drug Regimen\"] == \"Infubinol\") |\n",
    "                                    (subset_group[\"Drug Regimen\"] == \"Ceftamin\")]"
   ]
  },
  {
   "cell_type": "code",
   "execution_count": 18,
   "metadata": {},
   "outputs": [
    {
     "name": "stdout",
     "output_type": "stream",
     "text": [
      "The interquartile range of tumor values is: 22.74\n",
      "Values below 3.08 could be outliers.\n",
      "Values above 94.04 could be outliers.\n",
      "The number of potential outliers is: 0\n"
     ]
    }
   ],
   "source": [
    "#Quartiles and outliers across the four drug groups of interest (combined)\n",
    "tumor_vol = drug_group_subset[\"Tumor Volume (mm3)\"]\n",
    "\n",
    "t_quartiles = tumor_vol.quantile([0.25,0.5,0.75])\n",
    "t_lowerq = t_quartiles[0.25]\n",
    "t_upperq = t_quartiles[0.75]\n",
    "t_iqr = round((t_upperq - t_lowerq),2)\n",
    "t_lower_bound = round((t_lowerq - (1.5*t_iqr)),2)\n",
    "t_upper_bound = round((t_upperq + (1.5*t_iqr)),2)\n",
    "\n",
    "outliers = drug_group_subset.loc[(drug_group_subset[\"Tumor Volume (mm3)\"] < t_lower_bound) | \n",
    "                                  (drug_group_subset[\"Tumor Volume (mm3)\"] > t_upper_bound)]\n",
    "outlier_cnt = outliers[\"Tumor Volume (mm3)\"].count()\n",
    "\n",
    "print(f\"The interquartile range of tumor values is: {t_iqr}\")\n",
    "print(f\"Values below {t_lower_bound} could be outliers.\")\n",
    "print(f\"Values above {t_upper_bound} could be outliers.\")\n",
    "print(f\"The number of potential outliers is: {outlier_cnt}\")\n",
    "if outlier_cnt > 0:\n",
    "    print(outliers)"
   ]
  },
  {
   "cell_type": "code",
   "execution_count": 19,
   "metadata": {},
   "outputs": [
    {
     "name": "stdout",
     "output_type": "stream",
     "text": [
      "Capomulin Drug Regimen:\n",
      "  The interquartile range of tumor values is: 7.78\n",
      "  Values below 20.71 could be outliers.\n",
      "  Values above 51.83 could be outliers.\n",
      "  The Capomulin drug regimen has 0 potential outliers.\n",
      "\n",
      "\n",
      "Ramicane Drug Regimen:\n",
      "  The interquartile range of tumor values is: 9.1\n",
      "  Values below 17.91 could be outliers.\n",
      "  Values above 54.31 could be outliers.\n",
      "  The Ramicane drug regimen has 0 potential outliers.\n",
      "\n",
      "\n",
      "Infubinol Drug Regimen:\n",
      "  The interquartile range of tumor values is: 11.48\n",
      "  Values below 36.83 could be outliers.\n",
      "  Values above 82.75 could be outliers.\n",
      "  The Infubinol drug regimen has 1 potential outliers.\n",
      "\n",
      "          Tumor Volume (mm3)\n",
      "Mouse ID                    \n",
      "c326               36.321346\n",
      "\n",
      "\n",
      "Ceftamin Drug Regimen:\n",
      "  The interquartile range of tumor values is: 15.58\n",
      "  Values below 25.35 could be outliers.\n",
      "  Values above 87.67 could be outliers.\n",
      "  The Ceftamin drug regimen has 0 potential outliers.\n",
      "\n",
      "\n"
     ]
    }
   ],
   "source": [
    "#Since making individual boxplots below, also calculating quartiles and outliers for each of the four drug regimens of interest\n",
    "#as the quartiles and potentials outliers being plotted will be different than the combined group\n",
    "drug_groups = [\"Capomulin\", \"Ramicane\", \"Infubinol\", \"Ceftamin\"]\n",
    "\n",
    "#make a for loop to go through the four drug groups\n",
    "for grp in drug_groups:\n",
    " grp_group = subset_group.loc[subset_group[\"Drug Regimen\"] == grp, [\"Mouse ID\", \"Tumor Volume (mm3)\"]].set_index(\"Mouse ID\")\n",
    " tumors_grp = grp_group[\"Tumor Volume (mm3)\"]\n",
    " quartiles = tumors_grp.quantile([0.25,0.5,0.75])\n",
    " lowerq = quartiles[0.25]\n",
    " upperq = quartiles[0.75]\n",
    " iqr = round((upperq - lowerq),2)\n",
    " lower_bound = round((lowerq - (1.5*iqr)),2)\n",
    " upper_bound = round((upperq + (1.5*iqr)),2)\n",
    " \n",
    " outlier_group = grp_group.loc[(grp_group[\"Tumor Volume (mm3)\"] < lower_bound) | \n",
    "                                  (grp_group[\"Tumor Volume (mm3)\"] > upper_bound)]\n",
    " count = outlier_group[\"Tumor Volume (mm3)\"].count()\n",
    "\n",
    " print(f\"{grp} Drug Regimen:\")\n",
    " print(f\"  The interquartile range of tumor values is: {iqr}\")\n",
    " print(f\"  Values below {lower_bound} could be outliers.\")\n",
    " print(f\"  Values above {upper_bound} could be outliers.\")\n",
    " print(f\"  The {grp} drug regimen has {count} potential outliers.\")\n",
    " print(\"\")\n",
    "    \n",
    " if count > 0:\n",
    "        print(outlier_group)\n",
    "        print(\"\")\n",
    " print(\"\")"
   ]
  },
  {
   "cell_type": "code",
   "execution_count": 20,
   "metadata": {},
   "outputs": [
    {
     "data": {
      "image/png": "[encoded data removed]",
      "text/plain": [
       "<Figure size 432x288 with 1 Axes>"
      ]
     },
     "metadata": {
      "needs_background": "light"
     },
     "output_type": "display_data"
    }
   ],
   "source": [
    "#Box plots for each of the four drug regimens of interest\n",
    "#Set up data for plots\n",
    "Cap_group = subset_group.loc[subset_group[\"Drug Regimen\"] == \"Capomulin\", [\"Tumor Volume (mm3)\"]]\n",
    "Cap_tumors = Cap_group[\"Tumor Volume (mm3)\"].tolist()\n",
    "\n",
    "Ram_group = subset_group.loc[subset_group[\"Drug Regimen\"] == \"Ramicane\", [\"Tumor Volume (mm3)\"]]\n",
    "Ram_tumors = Ram_group[\"Tumor Volume (mm3)\"].tolist()\n",
    "\n",
    "Inf_group = subset_group.loc[subset_group[\"Drug Regimen\"] == \"Infubinol\", [\"Tumor Volume (mm3)\"]]\n",
    "Inf_tumors = Inf_group[\"Tumor Volume (mm3)\"].tolist()\n",
    "\n",
    "Cef_group = subset_group.loc[subset_group[\"Drug Regimen\"] == \"Ceftamin\", [\"Tumor Volume (mm3)\"]]\n",
    "Cef_tumors = Cef_group[\"Tumor Volume (mm3)\"].tolist()\n",
    "\n",
    "tumor_df = pd.DataFrame({\"Capomulin\": Cap_tumors, \"Ramicane\": Ram_tumors, \"Infubinol\": Inf_tumors, \"Ceftamin\": Cef_tumors})\n",
    "\n",
    "#Box plots\n",
    "red_diamond = dict(markerfacecolor='r', marker='D')\n",
    "tumor_df.boxplot(column=[\"Capomulin\", \"Ramicane\", \"Infubinol\", \"Ceftamin\"], grid=False, flierprops=red_diamond)\n",
    "plt.title(\"Box Plot of Average Tumor Volume by Drug Regimen\")\n",
    "plt.ylabel(\"Average Tumor Volumes\")\n",
    "plt.show()"
   ]
  },
  {
   "cell_type": "code",
   "execution_count": 21,
   "metadata": {},
   "outputs": [
    {
     "data": {
      "image/png": "[encoded data removed]",
      "text/plain": [
       "<Figure size 432x288 with 1 Axes>"
      ]
     },
     "metadata": {
      "needs_background": "light"
     },
     "output_type": "display_data"
    }
   ],
   "source": [
    "#Line Plot:  single mouse treated with Capomulin\n",
    "\n",
    "#Create subset data for a single mouse treated with Capomulin\n",
    "subset1 = mouse_comb_nodup[[\"Drug Regimen\", \"Mouse ID\", \"Timepoint\", \"Tumor Volume (mm3)\"]]\n",
    "Cap_Mse = subset1.loc[(subset1[\"Drug Regimen\"] == \"Capomulin\") & (subset1[\"Mouse ID\"] == \"s185\"), :]\n",
    "\n",
    "#Create line plot\n",
    "timepoint = Cap_Mse.iloc[:,2]\n",
    "tumor_vol = Cap_Mse.iloc[:,3]\n",
    "x_axis = np.arange(len(timepoint))\n",
    "plt.plot(x_axis, tumor_vol, color=\"red\", marker=\"o\", linewidth=1)\n",
    "plt.xlabel(\"Timepoint\")\n",
    "plt.ylabel(\"Tumor Volume\")\n",
    "plt.title(\"Tumor Volume by Timepoint for Mouse ID s185 on Capomulin Treatment\")\n",
    "tick_locations = [value for value in x_axis]\n",
    "plt.xticks(tick_locations, timepoint)\n",
    "plt.ylim(15, 50)\n",
    "plt.show()"
   ]
  },
  {
   "cell_type": "code",
   "execution_count": 22,
   "metadata": {},
   "outputs": [
    {
     "data": {
      "image/png": "[encoded data removed]",
      "text/plain": [
       "<Figure size 432x288 with 1 Axes>"
      ]
     },
     "metadata": {
      "needs_background": "light"
     },
     "output_type": "display_data"
    }
   ],
   "source": [
    "#Scatter Plot:  mouse weight vs average tumor volume for mice in Capomulin drug regimen\n",
    "\n",
    "#Create dataset for mice in Capomulin drug regimen and calculate the average tumor volume\n",
    "subset2 = mouse_comb_nodup[[\"Drug Regimen\", \"Mouse ID\", \"Weight (g)\", \"Tumor Volume (mm3)\"]]\n",
    "cap_only = subset2.loc[(subset2[\"Drug Regimen\"] == \"Capomulin\"), :]\n",
    "cap_grp = cap_only.groupby([\"Mouse ID\"]).mean()\n",
    "\n",
    "#Scatter plot of mouse weight by average tumor volume\n",
    "plt.scatter(cap_grp.iloc[:,0],cap_grp.iloc[:,1])\n",
    "plt.xlabel(\"Mouse Weight (g)\")\n",
    "plt.ylabel(\"Average Tumor Volume (mm3)\")\n",
    "plt.title(\"Average Tumor Volume by Weight for Mice in Capomulin Regimen\")\n",
    "plt.xlim(12,28)\n",
    "plt.ylim(32, 48)\n",
    "plt.show()"
   ]
  },
  {
   "cell_type": "code",
   "execution_count": 23,
   "metadata": {},
   "outputs": [
    {
     "name": "stdout",
     "output_type": "stream",
     "text": [
      "The correlation between weight (g) and average tumor volume (mm3) is 0.84\n"
     ]
    }
   ],
   "source": [
    "#Correlation coefficient\n",
    "weight = cap_grp.iloc[:,0]\n",
    "tumor_vol = cap_grp.iloc[:,1]\n",
    "correlation = st.pearsonr(weight,tumor_vol)\n",
    "print(f\"The correlation between weight (g) and average tumor volume (mm3) is {round(correlation[0],2)}\")"
   ]
  },
  {
   "cell_type": "code",
   "execution_count": 24,
   "metadata": {},
   "outputs": [
    {
     "name": "stdout",
     "output_type": "stream",
     "text": [
      "The r-squared is: 0.7088568047708717\n"
     ]
    },
    {
     "data": {
      "image/png": "[encoded data removed]",
      "text/plain": [
       "<Figure size 432x288 with 1 Axes>"
      ]
     },
     "metadata": {
      "needs_background": "light"
     },
     "output_type": "display_data"
    }
   ],
   "source": [
    "#Linear regression\n",
    "(slope, intercept, rvalue, pvalue, stderr) = linregress(weight, tumor_vol)\n",
    "regress_values = weight * slope + intercept\n",
    "line_eq = \"y = \" +str(round(slope,2)) + \"x + \" + str(round(intercept,2))\n",
    "plt.scatter(weight, tumor_vol)\n",
    "plt.plot(weight, regress_values, \"r-\")\n",
    "plt.annotate(line_eq,(20,36),fontsize=15,color=\"red\")\n",
    "plt.xlabel(\"Mouse Weight (g)\")\n",
    "plt.ylabel(\"Average Tumor Volume (mm3)\")\n",
    "plt.title(\"Average Tumor Volume by Weight for Mice in Capomulin Regimen\")\n",
    "plt.xlim(12,28)\n",
    "plt.ylim(32, 48)\n",
    "print(f\"The r-squared is: {rvalue**2}\")\n",
    "plt.show()"
   ]
  },
  {
   "cell_type": "code",
   "execution_count": null,
   "metadata": {},
   "outputs": [],
   "source": []
  }
 ],
 "metadata": {
  "kernelspec": {
   "display_name": "Python 3",
   "language": "python",
   "name": "python3"
  },
  "language_info": {
   "codemirror_mode": {
    "name": "ipython",
    "version": 3
   },
   "file_extension": ".py",
   "mimetype": "text/x-python",
   "name": "python",
   "nbconvert_exporter": "python",
   "pygments_lexer": "ipython3",
   "version": "3.7.6"
  }
 },
 "nbformat": 4,
 "nbformat_minor": 4
}
